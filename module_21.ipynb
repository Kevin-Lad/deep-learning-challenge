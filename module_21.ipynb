{
 "cells": [
  {
   "cell_type": "markdown",
   "metadata": {},
   "source": [
    "## Preprocessing"
   ]
  },
  {
   "cell_type": "code",
   "execution_count": 26,
   "metadata": {},
   "outputs": [],
   "source": [
    "# Import our dependencies\n",
    "from sklearn.model_selection import train_test_split\n",
    "from sklearn.preprocessing import StandardScaler\n",
    "import pandas as pd\n",
    "import tensorflow as tf\n",
    "\n",
    "#  Import and read the charity_data.csv.\n",
    "import pandas as pd \n",
    "import os "
   ]
  },
  {
   "cell_type": "code",
   "execution_count": 28,
   "metadata": {},
   "outputs": [],
   "source": [
    "CHARITY_DATA_URL = \"https://static.bc-edx.com/data/dl-1-2/m21/lms/starter/charity_data.csv\"\n",
    "OUTPUT_FILE_PATH = os.path.join('Output', 'AlphabetSoupCharity.h5')"
   ]
  },
  {
   "cell_type": "code",
   "execution_count": null,
   "metadata": {},
   "outputs": [],
   "source": [
    "application_df = pd.read_csv(CHARITY_DATA_URL)\n",
    "application_df.head()"
   ]
  },
  {
   "cell_type": "code",
   "execution_count": 2,
   "metadata": {},
   "outputs": [
    {
     "data": {
      "text/html": [
       "<div>\n",
       "<style scoped>\n",
       "    .dataframe tbody tr th:only-of-type {\n",
       "        vertical-align: middle;\n",
       "    }\n",
       "\n",
       "    .dataframe tbody tr th {\n",
       "        vertical-align: top;\n",
       "    }\n",
       "\n",
       "    .dataframe thead th {\n",
       "        text-align: right;\n",
       "    }\n",
       "</style>\n",
       "<table border=\"1\" class=\"dataframe\">\n",
       "  <thead>\n",
       "    <tr style=\"text-align: right;\">\n",
       "      <th></th>\n",
       "      <th>APPLICATION_TYPE</th>\n",
       "      <th>AFFILIATION</th>\n",
       "      <th>CLASSIFICATION</th>\n",
       "      <th>USE_CASE</th>\n",
       "      <th>ORGANIZATION</th>\n",
       "      <th>STATUS</th>\n",
       "      <th>INCOME_AMT</th>\n",
       "      <th>SPECIAL_CONSIDERATIONS</th>\n",
       "      <th>ASK_AMT</th>\n",
       "      <th>IS_SUCCESSFUL</th>\n",
       "    </tr>\n",
       "  </thead>\n",
       "  <tbody>\n",
       "    <tr>\n",
       "      <th>0</th>\n",
       "      <td>T10</td>\n",
       "      <td>Independent</td>\n",
       "      <td>C1000</td>\n",
       "      <td>ProductDev</td>\n",
       "      <td>Association</td>\n",
       "      <td>1</td>\n",
       "      <td>0</td>\n",
       "      <td>N</td>\n",
       "      <td>5000</td>\n",
       "      <td>1</td>\n",
       "    </tr>\n",
       "    <tr>\n",
       "      <th>1</th>\n",
       "      <td>T3</td>\n",
       "      <td>Independent</td>\n",
       "      <td>C2000</td>\n",
       "      <td>Preservation</td>\n",
       "      <td>Co-operative</td>\n",
       "      <td>1</td>\n",
       "      <td>1-9999</td>\n",
       "      <td>N</td>\n",
       "      <td>108590</td>\n",
       "      <td>1</td>\n",
       "    </tr>\n",
       "    <tr>\n",
       "      <th>2</th>\n",
       "      <td>T5</td>\n",
       "      <td>CompanySponsored</td>\n",
       "      <td>C3000</td>\n",
       "      <td>ProductDev</td>\n",
       "      <td>Association</td>\n",
       "      <td>1</td>\n",
       "      <td>0</td>\n",
       "      <td>N</td>\n",
       "      <td>5000</td>\n",
       "      <td>0</td>\n",
       "    </tr>\n",
       "    <tr>\n",
       "      <th>3</th>\n",
       "      <td>T3</td>\n",
       "      <td>CompanySponsored</td>\n",
       "      <td>C2000</td>\n",
       "      <td>Preservation</td>\n",
       "      <td>Trust</td>\n",
       "      <td>1</td>\n",
       "      <td>10000-24999</td>\n",
       "      <td>N</td>\n",
       "      <td>6692</td>\n",
       "      <td>1</td>\n",
       "    </tr>\n",
       "    <tr>\n",
       "      <th>4</th>\n",
       "      <td>T3</td>\n",
       "      <td>Independent</td>\n",
       "      <td>C1000</td>\n",
       "      <td>Heathcare</td>\n",
       "      <td>Trust</td>\n",
       "      <td>1</td>\n",
       "      <td>100000-499999</td>\n",
       "      <td>N</td>\n",
       "      <td>142590</td>\n",
       "      <td>1</td>\n",
       "    </tr>\n",
       "  </tbody>\n",
       "</table>\n",
       "</div>"
      ],
      "text/plain": [
       "  APPLICATION_TYPE       AFFILIATION CLASSIFICATION      USE_CASE  \\\n",
       "0              T10       Independent          C1000    ProductDev   \n",
       "1               T3       Independent          C2000  Preservation   \n",
       "2               T5  CompanySponsored          C3000    ProductDev   \n",
       "3               T3  CompanySponsored          C2000  Preservation   \n",
       "4               T3       Independent          C1000     Heathcare   \n",
       "\n",
       "   ORGANIZATION  STATUS     INCOME_AMT SPECIAL_CONSIDERATIONS  ASK_AMT  \\\n",
       "0   Association       1              0                      N     5000   \n",
       "1  Co-operative       1         1-9999                      N   108590   \n",
       "2   Association       1              0                      N     5000   \n",
       "3         Trust       1    10000-24999                      N     6692   \n",
       "4         Trust       1  100000-499999                      N   142590   \n",
       "\n",
       "   IS_SUCCESSFUL  \n",
       "0              1  \n",
       "1              1  \n",
       "2              0  \n",
       "3              1  \n",
       "4              1  "
      ]
     },
     "execution_count": 2,
     "metadata": {},
     "output_type": "execute_result"
    }
   ],
   "source": [
    "# Drop the non-beneficial ID columns, 'EIN' \"and 'NAME'.\n",
    "\n",
    "application_df.drop(['EIN', 'NAME'], axis=1, inplace=True)\n",
    "application_df.head()"
   ]
  },
  {
   "cell_type": "code",
   "execution_count": 3,
   "metadata": {},
   "outputs": [
    {
     "data": {
      "text/plain": [
       "APPLICATION_TYPE          object\n",
       "AFFILIATION               object\n",
       "CLASSIFICATION            object\n",
       "USE_CASE                  object\n",
       "ORGANIZATION              object\n",
       "STATUS                     int64\n",
       "INCOME_AMT                object\n",
       "SPECIAL_CONSIDERATIONS    object\n",
       "ASK_AMT                    int64\n",
       "IS_SUCCESSFUL              int64\n",
       "dtype: object"
      ]
     },
     "execution_count": 3,
     "metadata": {},
     "output_type": "execute_result"
    }
   ],
   "source": [
    "application_df.dtypes"
   ]
  },
  {
   "cell_type": "code",
   "execution_count": 4,
   "metadata": {},
   "outputs": [
    {
     "data": {
      "text/plain": [
       "APPLICATION_TYPE            17\n",
       "AFFILIATION                  6\n",
       "CLASSIFICATION              71\n",
       "USE_CASE                     5\n",
       "ORGANIZATION                 4\n",
       "STATUS                       2\n",
       "INCOME_AMT                   9\n",
       "SPECIAL_CONSIDERATIONS       2\n",
       "ASK_AMT                   8747\n",
       "IS_SUCCESSFUL                2\n",
       "dtype: int64"
      ]
     },
     "execution_count": 4,
     "metadata": {},
     "output_type": "execute_result"
    }
   ],
   "source": [
    "# Determine the number of unique values in each column.\n",
    "application_df.nunique()"
   ]
  },
  {
   "cell_type": "code",
   "execution_count": 5,
   "metadata": {},
   "outputs": [
    {
     "data": {
      "text/plain": [
       "APPLICATION_TYPE\n",
       "T3     27037\n",
       "T4      1542\n",
       "T6      1216\n",
       "T5      1173\n",
       "T19     1065\n",
       "T8       737\n",
       "T7       725\n",
       "T10      528\n",
       "T9       156\n",
       "T13       66\n",
       "T12       27\n",
       "T2        16\n",
       "T25        3\n",
       "T14        3\n",
       "T29        2\n",
       "T15        2\n",
       "T17        1\n",
       "Name: count, dtype: int64"
      ]
     },
     "execution_count": 5,
     "metadata": {},
     "output_type": "execute_result"
    }
   ],
   "source": [
    "# Look at APPLICATION_TYPE value counts for binning\n",
    "application_df['APPLICATION_TYPE'].value_counts()"
   ]
  },
  {
   "cell_type": "code",
   "execution_count": 10,
   "metadata": {},
   "outputs": [],
   "source": [
    "def binning(data_series, threshold):\n",
    "    doomed_value_fs =data_series.value_counts() < threshold\n",
    "    data_series.value_counts()[doomed_value_fs].index\n",
    "    doomed_values = data_series.value_counts()[doomed_value_fs].index\n",
    "\n",
    "    replacement_fs = data_series.isin(doomed_values)\n",
    "    data_series[replacement_fs] = 'Other'\n",
    "    return data_series"
   ]
  },
  {
   "cell_type": "code",
   "execution_count": 12,
   "metadata": {},
   "outputs": [
    {
     "name": "stderr",
     "output_type": "stream",
     "text": [
      "C:\\Users\\kevin\\AppData\\Local\\Temp\\ipykernel_10180\\2767660649.py:7: SettingWithCopyWarning: \n",
      "A value is trying to be set on a copy of a slice from a DataFrame\n",
      "\n",
      "See the caveats in the documentation: https://pandas.pydata.org/pandas-docs/stable/user_guide/indexing.html#returning-a-view-versus-a-copy\n",
      "  data_series[replacement_fs] = 'Other'\n"
     ]
    },
    {
     "data": {
      "text/plain": [
       "APPLICATION_TYPE\n",
       "T3       27037\n",
       "T4        1542\n",
       "T6        1216\n",
       "T5        1173\n",
       "T19       1065\n",
       "T8         737\n",
       "T7         725\n",
       "T10        528\n",
       "Other      276\n",
       "Name: count, dtype: int64"
      ]
     },
     "execution_count": 12,
     "metadata": {},
     "output_type": "execute_result"
    }
   ],
   "source": [
    "binning(application_df['APPLICATION_TYPE'], 500)"
   ]
  },
  {
   "cell_type": "code",
   "execution_count": 13,
   "metadata": {},
   "outputs": [
    {
     "name": "stderr",
     "output_type": "stream",
     "text": [
      "C:\\Users\\kevin\\AppData\\Local\\Temp\\ipykernel_10180\\2767660649.py:7: SettingWithCopyWarning: \n",
      "A value is trying to be set on a copy of a slice from a DataFrame\n",
      "\n",
      "See the caveats in the documentation: https://pandas.pydata.org/pandas-docs/stable/user_guide/indexing.html#returning-a-view-versus-a-copy\n",
      "  data_series[replacement_fs] = 'Other'\n"
     ]
    }
   ],
   "source": [
    "application_df['APPLICATION_TYPE'] = binning(application_df['APPLICATION_TYPE'], 500)"
   ]
  },
  {
   "cell_type": "code",
   "execution_count": 14,
   "metadata": {},
   "outputs": [
    {
     "data": {
      "text/plain": [
       "APPLICATION_TYPE\n",
       "T3       27037\n",
       "T4        1542\n",
       "T6        1216\n",
       "T5        1173\n",
       "T19       1065\n",
       "T8         737\n",
       "T7         725\n",
       "T10        528\n",
       "Other      276\n",
       "Name: count, dtype: int64"
      ]
     },
     "execution_count": 14,
     "metadata": {},
     "output_type": "execute_result"
    }
   ],
   "source": [
    "application_df['APPLICATION_TYPE'].value_counts()"
   ]
  },
  {
   "cell_type": "code",
   "execution_count": null,
   "metadata": {},
   "outputs": [],
   "source": [
    "# # Set your threshold count\n",
    "# threshold_count = 500\n",
    "\n",
    "# # Check the value counts\n",
    "# value_counts = df['Column_Name'].value_counts()\n",
    "\n",
    "# # Identify values below the threshold\n",
    "# below_threshold_values = value_counts[value_counts < threshold_count].index\n",
    "\n",
    "# # Replace values below the threshold with a new value (e.g., -1)\n",
    "# df['Column_Name'] = df['Column_Name'].replace(below_threshold_values, -1)\n",
    "\n",
    "# # Print the updated DataFrame\n",
    "# print(df)"
   ]
  },
  {
   "cell_type": "code",
   "execution_count": null,
   "metadata": {},
   "outputs": [],
   "source": [
    "# Choose a cutoff value and create a list of application types to be replaced\n",
    "# use the variable name `application_types_to_replace`\n",
    "application_types_to_replace = \n",
    "\n",
    "# Replace in dataframe\n",
    "for app in application_types_to_replace:\n",
    "    application_df['APPLICATION_TYPE'] = application_df['APPLICATION_TYPE'].replace(app,\"Other\")\n",
    "\n",
    "# Check to make sure binning was successful\n",
    "application_df['APPLICATION_TYPE'].value_counts()"
   ]
  },
  {
   "cell_type": "code",
   "execution_count": null,
   "metadata": {},
   "outputs": [],
   "source": [
    "# Look at CLASSIFICATION value counts for binning\n",
    "application_df['CLASSIFICATION'].value_counts()"
   ]
  },
  {
   "cell_type": "code",
   "execution_count": null,
   "metadata": {},
   "outputs": [],
   "source": [
    "# You may find it helpful to look at CLASSIFICATION value counts >1\n",
    "#  YOUR CODE GOES HERE"
   ]
  },
  {
   "cell_type": "code",
   "execution_count": 16,
   "metadata": {},
   "outputs": [
    {
     "name": "stderr",
     "output_type": "stream",
     "text": [
      "C:\\Users\\kevin\\AppData\\Local\\Temp\\ipykernel_10180\\2767660649.py:7: SettingWithCopyWarning: \n",
      "A value is trying to be set on a copy of a slice from a DataFrame\n",
      "\n",
      "See the caveats in the documentation: https://pandas.pydata.org/pandas-docs/stable/user_guide/indexing.html#returning-a-view-versus-a-copy\n",
      "  data_series[replacement_fs] = 'Other'\n"
     ]
    },
    {
     "data": {
      "text/plain": [
       "CLASSIFICATION\n",
       "C1000    17326\n",
       "C2000     6074\n",
       "C1200     4837\n",
       "Other     2261\n",
       "C3000     1918\n",
       "C2100     1883\n",
       "Name: count, dtype: int64"
      ]
     },
     "execution_count": 16,
     "metadata": {},
     "output_type": "execute_result"
    }
   ],
   "source": [
    "application_df['CLASSIFICATION'] = binning(application_df['CLASSIFICATION'], 1000)\n",
    "application_df['CLASSIFICATION'].value_counts()"
   ]
  },
  {
   "cell_type": "code",
   "execution_count": null,
   "metadata": {},
   "outputs": [],
   "source": [
    "# Choose a cutoff value and create a list of classifications to be replaced\n",
    "# use the variable name `classifications_to_replace`\n",
    "#  YOUR CODE GOES HERE\n",
    "\n",
    "# # Replace in dataframe\n",
    "# for cls in classifications_to_replace:\n",
    "#     application_df['CLASSIFICATION'] = application_df['CLASSIFICATION'].replace(cls,\"Other\")\n",
    "    \n",
    "# # Check to make sure binning was successful\n",
    "# application_df['CLASSIFICATION'].value_counts()"
   ]
  },
  {
   "cell_type": "code",
   "execution_count": 22,
   "metadata": {},
   "outputs": [],
   "source": [
    "# Convert categorical data to numeric with `pd.get_dummies`\n",
    "application_df = pd.get_dummies(application_df)"
   ]
  },
  {
   "cell_type": "code",
   "execution_count": 18,
   "metadata": {},
   "outputs": [],
   "source": [
    "# Split our preprocessed data into our features and target arrays\n",
    "y = application_df['IS_SUCCESSFUL']\n",
    "X = application_df.drop(columns='IS_SUCCESSFUL')"
   ]
  },
  {
   "cell_type": "code",
   "execution_count": 19,
   "metadata": {},
   "outputs": [],
   "source": [
    "# Split the preprocessed data into a training and testing dataset\n",
    "X_train, X_test, y_train, y_test = train_test_split(X, y, random_state=1)"
   ]
  },
  {
   "cell_type": "code",
   "execution_count": 20,
   "metadata": {},
   "outputs": [],
   "source": [
    "# Create a StandardScaler instances\n",
    "scaler = StandardScaler()\n",
    "\n",
    "# Fit the StandardScaler\n",
    "X_scaler = scaler.fit(X_train)\n",
    "\n",
    "# Scale the data\n",
    "X_train_scaled = X_scaler.transform(X_train)\n",
    "X_test_scaled = X_scaler.transform(X_test)"
   ]
  },
  {
   "cell_type": "markdown",
   "metadata": {},
   "source": [
    "## Compile, Train and Evaluate the Model"
   ]
  },
  {
   "cell_type": "code",
   "execution_count": 23,
   "metadata": {},
   "outputs": [
    {
     "name": "stdout",
     "output_type": "stream",
     "text": [
      "Model: \"sequential\"\n",
      "_________________________________________________________________\n",
      " Layer (type)                Output Shape              Param #   \n",
      "=================================================================\n",
      " dense (Dense)               (None, 80)                3520      \n",
      "                                                                 \n",
      " dense_1 (Dense)             (None, 30)                2430      \n",
      "                                                                 \n",
      " dense_2 (Dense)             (None, 1)                 31        \n",
      "                                                                 \n",
      "=================================================================\n",
      "Total params: 5981 (23.36 KB)\n",
      "Trainable params: 5981 (23.36 KB)\n",
      "Non-trainable params: 0 (0.00 Byte)\n",
      "_________________________________________________________________\n"
     ]
    }
   ],
   "source": [
    "# Define the model - deep neural net, i.e., the number of input features and hidden nodes for each layer.\n",
    "#  YOUR CODE GOES HERE\n",
    "\n",
    "nn = tf.keras.models.Sequential()\n",
    "\n",
    "# First hidden layer\n",
    "nn.add(tf.keras.layers.Dense(units=80, activation=\"relu\", input_dim=43))\n",
    "\n",
    "# Second hidden layer\n",
    "nn.add(tf.keras.layers.Dense(units=30, activation=\"relu\"))\n",
    "\n",
    "# Output layer\n",
    "nn.add(tf.keras.layers.Dense(units=1, activation=\"sigmoid\"))\n",
    "\n",
    "# Check the structure of the model\n",
    "nn.summary()"
   ]
  },
  {
   "cell_type": "code",
   "execution_count": 24,
   "metadata": {},
   "outputs": [],
   "source": [
    "# Compile the model\n",
    "nn.compile(loss=\"binary_crossentropy\", optimizer=\"adam\", metrics=[\"accuracy\"])"
   ]
  },
  {
   "cell_type": "code",
   "execution_count": 25,
   "metadata": {},
   "outputs": [
    {
     "name": "stdout",
     "output_type": "stream",
     "text": [
      "Epoch 1/100\n",
      "804/804 [==============================] - 11s 9ms/step - loss: 0.5715 - accuracy: 0.7182\n",
      "Epoch 2/100\n",
      "804/804 [==============================] - 6s 8ms/step - loss: 0.5558 - accuracy: 0.7287\n",
      "Epoch 3/100\n",
      "804/804 [==============================] - 7s 9ms/step - loss: 0.5541 - accuracy: 0.7289\n",
      "Epoch 4/100\n",
      "804/804 [==============================] - 8s 11ms/step - loss: 0.5506 - accuracy: 0.7315\n",
      "Epoch 5/100\n",
      "804/804 [==============================] - 8s 10ms/step - loss: 0.5506 - accuracy: 0.7312\n",
      "Epoch 6/100\n",
      "804/804 [==============================] - 10s 13ms/step - loss: 0.5489 - accuracy: 0.7329\n",
      "Epoch 7/100\n",
      "804/804 [==============================] - 8s 10ms/step - loss: 0.5490 - accuracy: 0.7308\n",
      "Epoch 8/100\n",
      "804/804 [==============================] - 7s 8ms/step - loss: 0.5477 - accuracy: 0.7318\n",
      "Epoch 9/100\n",
      "804/804 [==============================] - 7s 9ms/step - loss: 0.5474 - accuracy: 0.7340\n",
      "Epoch 10/100\n",
      "804/804 [==============================] - 7s 8ms/step - loss: 0.5461 - accuracy: 0.7345\n",
      "Epoch 11/100\n",
      "804/804 [==============================] - 6s 7ms/step - loss: 0.5462 - accuracy: 0.7339\n",
      "Epoch 12/100\n",
      "804/804 [==============================] - 5s 7ms/step - loss: 0.5456 - accuracy: 0.7339\n",
      "Epoch 13/100\n",
      "804/804 [==============================] - 5s 7ms/step - loss: 0.5457 - accuracy: 0.7343\n",
      "Epoch 14/100\n",
      "804/804 [==============================] - 5s 7ms/step - loss: 0.5445 - accuracy: 0.7334\n",
      "Epoch 15/100\n",
      "804/804 [==============================] - 5s 6ms/step - loss: 0.5449 - accuracy: 0.7332\n",
      "Epoch 16/100\n",
      "804/804 [==============================] - 5s 7ms/step - loss: 0.5440 - accuracy: 0.7346\n",
      "Epoch 17/100\n",
      "804/804 [==============================] - 6s 7ms/step - loss: 0.5438 - accuracy: 0.7341\n",
      "Epoch 18/100\n",
      "804/804 [==============================] - 5s 7ms/step - loss: 0.5434 - accuracy: 0.7357\n",
      "Epoch 19/100\n",
      "804/804 [==============================] - 9s 12ms/step - loss: 0.5434 - accuracy: 0.7343\n",
      "Epoch 20/100\n",
      "804/804 [==============================] - 9s 11ms/step - loss: 0.5432 - accuracy: 0.7355\n",
      "Epoch 21/100\n",
      "804/804 [==============================] - 10s 12ms/step - loss: 0.5427 - accuracy: 0.7367\n",
      "Epoch 22/100\n",
      "804/804 [==============================] - 9s 12ms/step - loss: 0.5432 - accuracy: 0.7360\n",
      "Epoch 23/100\n",
      "804/804 [==============================] - 8s 10ms/step - loss: 0.5425 - accuracy: 0.7360\n",
      "Epoch 24/100\n",
      "804/804 [==============================] - 8s 9ms/step - loss: 0.5421 - accuracy: 0.7366\n",
      "Epoch 25/100\n",
      "804/804 [==============================] - 11s 14ms/step - loss: 0.5423 - accuracy: 0.7371\n",
      "Epoch 26/100\n",
      "804/804 [==============================] - 6s 7ms/step - loss: 0.5420 - accuracy: 0.7365\n",
      "Epoch 27/100\n",
      "804/804 [==============================] - 9s 12ms/step - loss: 0.5419 - accuracy: 0.7354\n",
      "Epoch 28/100\n",
      "804/804 [==============================] - 11s 14ms/step - loss: 0.5412 - accuracy: 0.7361\n",
      "Epoch 29/100\n",
      "804/804 [==============================] - 9s 11ms/step - loss: 0.5413 - accuracy: 0.7365\n",
      "Epoch 30/100\n",
      "804/804 [==============================] - 7s 9ms/step - loss: 0.5410 - accuracy: 0.7373\n",
      "Epoch 31/100\n",
      "804/804 [==============================] - 8s 10ms/step - loss: 0.5409 - accuracy: 0.7358\n",
      "Epoch 32/100\n",
      "804/804 [==============================] - 6s 7ms/step - loss: 0.5406 - accuracy: 0.7365\n",
      "Epoch 33/100\n",
      "804/804 [==============================] - 6s 7ms/step - loss: 0.5403 - accuracy: 0.7365\n",
      "Epoch 34/100\n",
      "804/804 [==============================] - 8s 10ms/step - loss: 0.5404 - accuracy: 0.7376\n",
      "Epoch 35/100\n",
      "804/804 [==============================] - 9s 11ms/step - loss: 0.5403 - accuracy: 0.7377\n",
      "Epoch 36/100\n",
      "804/804 [==============================] - 8s 10ms/step - loss: 0.5404 - accuracy: 0.7374\n",
      "Epoch 37/100\n",
      "804/804 [==============================] - 10s 12ms/step - loss: 0.5399 - accuracy: 0.7378\n",
      "Epoch 38/100\n",
      "804/804 [==============================] - 12s 15ms/step - loss: 0.5397 - accuracy: 0.7381\n",
      "Epoch 39/100\n",
      "804/804 [==============================] - 12s 15ms/step - loss: 0.5401 - accuracy: 0.7377\n",
      "Epoch 40/100\n",
      "804/804 [==============================] - 10s 12ms/step - loss: 0.5398 - accuracy: 0.7385\n",
      "Epoch 41/100\n",
      "804/804 [==============================] - 11s 14ms/step - loss: 0.5391 - accuracy: 0.7385\n",
      "Epoch 42/100\n",
      "804/804 [==============================] - 9s 11ms/step - loss: 0.5392 - accuracy: 0.7377\n",
      "Epoch 43/100\n",
      "804/804 [==============================] - 6s 7ms/step - loss: 0.5394 - accuracy: 0.7381\n",
      "Epoch 44/100\n",
      "804/804 [==============================] - 7s 8ms/step - loss: 0.5394 - accuracy: 0.7378\n",
      "Epoch 45/100\n",
      "804/804 [==============================] - 7s 8ms/step - loss: 0.5392 - accuracy: 0.7371\n",
      "Epoch 46/100\n",
      "804/804 [==============================] - 8s 10ms/step - loss: 0.5391 - accuracy: 0.7382\n",
      "Epoch 47/100\n",
      "804/804 [==============================] - 7s 9ms/step - loss: 0.5392 - accuracy: 0.7385\n",
      "Epoch 48/100\n",
      "804/804 [==============================] - 9s 11ms/step - loss: 0.5385 - accuracy: 0.7385\n",
      "Epoch 49/100\n",
      "804/804 [==============================] - 9s 11ms/step - loss: 0.5384 - accuracy: 0.7378\n",
      "Epoch 50/100\n",
      "804/804 [==============================] - 8s 10ms/step - loss: 0.5385 - accuracy: 0.7394\n",
      "Epoch 51/100\n",
      "804/804 [==============================] - 9s 12ms/step - loss: 0.5384 - accuracy: 0.7381\n",
      "Epoch 52/100\n",
      "804/804 [==============================] - 9s 11ms/step - loss: 0.5381 - accuracy: 0.7390\n",
      "Epoch 53/100\n",
      "804/804 [==============================] - 9s 11ms/step - loss: 0.5383 - accuracy: 0.7387\n",
      "Epoch 54/100\n",
      "804/804 [==============================] - 9s 11ms/step - loss: 0.5387 - accuracy: 0.7392\n",
      "Epoch 55/100\n",
      "804/804 [==============================] - 7s 8ms/step - loss: 0.5380 - accuracy: 0.7382\n",
      "Epoch 56/100\n",
      "804/804 [==============================] - 7s 9ms/step - loss: 0.5379 - accuracy: 0.7385\n",
      "Epoch 57/100\n",
      "804/804 [==============================] - 7s 9ms/step - loss: 0.5377 - accuracy: 0.7384\n",
      "Epoch 58/100\n",
      "804/804 [==============================] - 8s 10ms/step - loss: 0.5379 - accuracy: 0.7386\n",
      "Epoch 59/100\n",
      "804/804 [==============================] - 7s 8ms/step - loss: 0.5375 - accuracy: 0.7390\n",
      "Epoch 60/100\n",
      "804/804 [==============================] - 7s 8ms/step - loss: 0.5378 - accuracy: 0.7390\n",
      "Epoch 61/100\n",
      "804/804 [==============================] - 7s 9ms/step - loss: 0.5374 - accuracy: 0.7391\n",
      "Epoch 62/100\n",
      "804/804 [==============================] - 8s 10ms/step - loss: 0.5374 - accuracy: 0.7391\n",
      "Epoch 63/100\n",
      "804/804 [==============================] - 9s 11ms/step - loss: 0.5375 - accuracy: 0.7393\n",
      "Epoch 64/100\n",
      "804/804 [==============================] - 9s 11ms/step - loss: 0.5376 - accuracy: 0.7388\n",
      "Epoch 65/100\n",
      "804/804 [==============================] - 8s 10ms/step - loss: 0.5369 - accuracy: 0.7393\n",
      "Epoch 66/100\n",
      "804/804 [==============================] - 8s 10ms/step - loss: 0.5369 - accuracy: 0.7392\n",
      "Epoch 67/100\n",
      "804/804 [==============================] - 10s 13ms/step - loss: 0.5370 - accuracy: 0.7387\n",
      "Epoch 68/100\n",
      "804/804 [==============================] - 10s 12ms/step - loss: 0.5374 - accuracy: 0.7394\n",
      "Epoch 69/100\n",
      "804/804 [==============================] - 8s 10ms/step - loss: 0.5370 - accuracy: 0.7390\n",
      "Epoch 70/100\n",
      "804/804 [==============================] - 7s 9ms/step - loss: 0.5367 - accuracy: 0.7385\n",
      "Epoch 71/100\n",
      "804/804 [==============================] - 5s 6ms/step - loss: 0.5367 - accuracy: 0.7400\n",
      "Epoch 72/100\n",
      "804/804 [==============================] - 6s 8ms/step - loss: 0.5363 - accuracy: 0.7388\n",
      "Epoch 73/100\n",
      "804/804 [==============================] - 6s 7ms/step - loss: 0.5370 - accuracy: 0.7392\n",
      "Epoch 74/100\n",
      "804/804 [==============================] - 6s 8ms/step - loss: 0.5367 - accuracy: 0.7389\n",
      "Epoch 75/100\n",
      "804/804 [==============================] - 11s 14ms/step - loss: 0.5365 - accuracy: 0.7394\n",
      "Epoch 76/100\n",
      "804/804 [==============================] - 8s 9ms/step - loss: 0.5365 - accuracy: 0.7399\n",
      "Epoch 77/100\n",
      "804/804 [==============================] - 6s 7ms/step - loss: 0.5364 - accuracy: 0.7393\n",
      "Epoch 78/100\n",
      "804/804 [==============================] - 7s 9ms/step - loss: 0.5365 - accuracy: 0.7395\n",
      "Epoch 79/100\n",
      "804/804 [==============================] - 19s 24ms/step - loss: 0.5367 - accuracy: 0.7401\n",
      "Epoch 80/100\n"
     ]
    },
    {
     "name": "stdout",
     "output_type": "stream",
     "text": [
      "804/804 [==============================] - 10s 12ms/step - loss: 0.5362 - accuracy: 0.7399\n",
      "Epoch 81/100\n",
      "804/804 [==============================] - 8s 10ms/step - loss: 0.5361 - accuracy: 0.7395\n",
      "Epoch 82/100\n",
      "804/804 [==============================] - 7s 8ms/step - loss: 0.5363 - accuracy: 0.7396\n",
      "Epoch 83/100\n",
      "804/804 [==============================] - 8s 10ms/step - loss: 0.5360 - accuracy: 0.7389\n",
      "Epoch 84/100\n",
      "804/804 [==============================] - 7s 9ms/step - loss: 0.5361 - accuracy: 0.7407\n",
      "Epoch 85/100\n",
      "804/804 [==============================] - 5s 7ms/step - loss: 0.5363 - accuracy: 0.7399\n",
      "Epoch 86/100\n",
      "804/804 [==============================] - 6s 7ms/step - loss: 0.5359 - accuracy: 0.7393\n",
      "Epoch 87/100\n",
      "804/804 [==============================] - 7s 9ms/step - loss: 0.5360 - accuracy: 0.7385\n",
      "Epoch 88/100\n",
      "804/804 [==============================] - 7s 9ms/step - loss: 0.5356 - accuracy: 0.7398\n",
      "Epoch 89/100\n",
      "804/804 [==============================] - 9s 11ms/step - loss: 0.5359 - accuracy: 0.7398\n",
      "Epoch 90/100\n",
      "804/804 [==============================] - 8s 10ms/step - loss: 0.5357 - accuracy: 0.7402\n",
      "Epoch 91/100\n",
      "804/804 [==============================] - 8s 10ms/step - loss: 0.5357 - accuracy: 0.7399\n",
      "Epoch 92/100\n",
      "804/804 [==============================] - 11s 14ms/step - loss: 0.5358 - accuracy: 0.7399\n",
      "Epoch 93/100\n",
      "804/804 [==============================] - 8s 10ms/step - loss: 0.5356 - accuracy: 0.7399\n",
      "Epoch 94/100\n",
      "804/804 [==============================] - 7s 9ms/step - loss: 0.5353 - accuracy: 0.7398\n",
      "Epoch 95/100\n",
      "804/804 [==============================] - 7s 9ms/step - loss: 0.5359 - accuracy: 0.7397\n",
      "Epoch 96/100\n",
      "804/804 [==============================] - 7s 9ms/step - loss: 0.5356 - accuracy: 0.7402\n",
      "Epoch 97/100\n",
      "804/804 [==============================] - 11s 14ms/step - loss: 0.5356 - accuracy: 0.7409\n",
      "Epoch 98/100\n",
      "804/804 [==============================] - 8s 10ms/step - loss: 0.5358 - accuracy: 0.7399\n",
      "Epoch 99/100\n",
      "804/804 [==============================] - 8s 9ms/step - loss: 0.5352 - accuracy: 0.7397\n",
      "Epoch 100/100\n",
      "804/804 [==============================] - 7s 9ms/step - loss: 0.5352 - accuracy: 0.7400\n"
     ]
    }
   ],
   "source": [
    "# Train the model\n",
    "fit_model = nn.fit(X_train_scaled, y_train, epochs=100)"
   ]
  },
  {
   "cell_type": "code",
   "execution_count": 29,
   "metadata": {},
   "outputs": [
    {
     "name": "stdout",
     "output_type": "stream",
     "text": [
      "268/268 - 4s - loss: 0.5573 - accuracy: 0.7293 - 4s/epoch - 15ms/step\n",
      "Loss: 0.557330846786499, Accuracy: 0.7293294668197632\n"
     ]
    }
   ],
   "source": [
    "# Evaluate the model using the test data\n",
    "model_loss, model_accuracy = nn.evaluate(X_test_scaled,y_test,verbose=2)\n",
    "print(f\"Loss: {model_loss}, Accuracy: {model_accuracy}\")"
   ]
  },
  {
   "cell_type": "code",
   "execution_count": 30,
   "metadata": {},
   "outputs": [
    {
     "name": "stderr",
     "output_type": "stream",
     "text": [
      "C:\\Users\\kevin\\anaconda3\\envs\\dev\\lib\\site-packages\\keras\\src\\engine\\training.py:3079: UserWarning: You are saving your model as an HDF5 file via `model.save()`. This file format is considered legacy. We recommend using instead the native Keras format, e.g. `model.save('my_model.keras')`.\n",
      "  saving_api.save_model(\n"
     ]
    }
   ],
   "source": [
    "# Export our model to HDF5 file\n",
    "nn.save(OUTPUT_FILE_PATH, save_format='h5')\n"
   ]
  }
 ],
 "metadata": {
  "kernelspec": {
   "display_name": "Python 3 (ipykernel)",
   "language": "python",
   "name": "python3"
  },
  "language_info": {
   "codemirror_mode": {
    "name": "ipython",
    "version": 3
   },
   "file_extension": ".py",
   "mimetype": "text/x-python",
   "name": "python",
   "nbconvert_exporter": "python",
   "pygments_lexer": "ipython3",
   "version": "3.10.13"
  },
  "vscode": {
   "interpreter": {
    "hash": "31f2aee4e71d21fbe5cf8b01ff0e069b9275f58929596ceb00d14d90e3e16cd6"
   }
  }
 },
 "nbformat": 4,
 "nbformat_minor": 4
}
